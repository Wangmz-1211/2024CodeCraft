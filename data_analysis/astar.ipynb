{
 "cells": [
  {
   "cell_type": "code",
   "execution_count": 236,
   "id": "initial_id",
   "metadata": {
    "collapsed": true,
    "ExecuteTime": {
     "end_time": "2024-03-17T16:48:47.186539Z",
     "start_time": "2024-03-17T16:48:47.176224Z"
    }
   },
   "outputs": [],
   "source": [
    "import numpy as np\n",
    "import matplotlib.pyplot as plt\n",
    "from typing import List\n",
    "import heapq"
   ]
  },
  {
   "cell_type": "code",
   "outputs": [],
   "source": [
    "H_N = 2\n",
    "\n",
    "class Position:\n",
    "    def __init__(self, x, y):\n",
    "        self.x = x\n",
    "        self.y = y\n",
    "\n",
    "\n",
    "class Node:\n",
    "    def __init__(self, position: Position, start: Position, end: Position, parent=None):\n",
    "        self.position = position\n",
    "        self.parent = parent\n",
    "        self.cost = AStar.total_cost(start, position, end)\n",
    "\n",
    "    def __eq__(self, other):\n",
    "        return self.position.x == other.position.x and self.position.y == other.position.y\n",
    "\n",
    "    def __str__(self):\n",
    "        return f'({self.position.x}, {self.position.y})'\n",
    "\n",
    "    def __lt__(self, other):\n",
    "        return self.cost < other.cost\n",
    "\n",
    "    def __gt__(self, other):\n",
    "        return self.cost > other.cost\n",
    "\n",
    "\n",
    "class AStar:\n",
    "\n",
    "    @staticmethod\n",
    "    def base_cost(start: Position, curr: Position):\n",
    "        return abs(start.x - curr.x) + abs(start.y - curr.y)\n",
    "\n",
    "    @staticmethod\n",
    "    def heuristic_cost(curr: Position, end: Position):\n",
    "        return (end.x - curr.x)**H_N + 4 * (end.y - curr.y)**H_N\n",
    "\n",
    "    @staticmethod\n",
    "    def total_cost(start: Position, curr: Position, end: Position):\n",
    "        return AStar.base_cost(start, curr) + AStar.heuristic_cost(curr, end)\n",
    "\n",
    "    @staticmethod\n",
    "    def build_path(end: Node) -> List[Node]:\n",
    "        path = []\n",
    "        curr = end\n",
    "        while curr.parent:\n",
    "            path.insert(0, curr)\n",
    "            curr = curr.parent\n",
    "        return path\n",
    "\n",
    "    @staticmethod\n",
    "    def find_path(map: np.array, start: Node, end: Node):\n",
    "        dx = [-1, 1, 0, 0]\n",
    "        dy = [0, 0, -1, 1]\n",
    "        open_list = []\n",
    "        closed_list = []\n",
    "        open_list.append(start)\n",
    "        heapq.heappush(open_list, start)\n",
    "        while open_list:\n",
    "            curr = heapq.heappop(open_list)\n",
    "            if curr in closed_list:\n",
    "                continue\n",
    "            if curr == end:\n",
    "                return AStar.build_path(curr), closed_list\n",
    "            closed_list.append(curr)\n",
    "            if map[curr.position.x, curr.position.y] == -1:\n",
    "                continue\n",
    "            for i in range(4):\n",
    "                if curr.position.x + dx[i] >= 0 and curr.position.x + dx[i] < map.shape[0] and curr.position.y + dy[\n",
    "                    i] >= 0 and curr.position.y + dy[i] < map.shape[1]:\n",
    "                    heapq.heappush(open_list, (\n",
    "                        Node(Position(curr.position.x + dx[i], curr.position.y + dy[i]), start.position, end.position,\n",
    "                             curr)))\n",
    "        return [], []"
   ],
   "metadata": {
    "collapsed": false,
    "ExecuteTime": {
     "end_time": "2024-03-17T16:49:24.263281Z",
     "start_time": "2024-03-17T16:49:24.256584Z"
    }
   },
   "id": "c9b67c0f3c0945ca",
   "execution_count": 241
  },
  {
   "cell_type": "code",
   "outputs": [
    {
     "name": "stdout",
     "output_type": "stream",
     "text": [
      "80\n"
     ]
    },
    {
     "data": {
      "text/plain": "(-0.5, 59.5, 59.5, -0.5)"
     },
     "execution_count": 242,
     "metadata": {},
     "output_type": "execute_result"
    },
    {
     "data": {
      "text/plain": "<Figure size 640x480 with 1 Axes>",
      "image/png": "[encoded data removed]"
     },
     "metadata": {},
     "output_type": "display_data"
    }
   ],
   "source": [
    "map_size = 60\n",
    "start = Position(map_size - 10, 10)\n",
    "end = Position(10, map_size - 10)\n",
    "start_node = Node(start, start, end)\n",
    "end_node = Node(end, start, end)\n",
    "\n",
    "map = np.zeros((map_size, map_size))\n",
    "for i in range(20, 40):\n",
    "    map[i, i] = -1\n",
    "path, closed_list = AStar.find_path(map, end_node, start_node)\n",
    "print(len(path))\n",
    "for node in closed_list:\n",
    "    map[node.position.x, node.position.y] = 2\n",
    "for node in path:\n",
    "    map[node.position.x, node.position.y] = 5\n",
    "map[start_node.position.x, start_node.position.y] = 1\n",
    "map[end_node.position.x, end_node.position.y] = 3\n",
    "map[map_size - 1, 0] = 0\n",
    "plt.imshow(map, cmap='inferno')\n",
    "plt.axis('off')"
   ],
   "metadata": {
    "collapsed": false,
    "ExecuteTime": {
     "end_time": "2024-03-17T16:49:24.501734Z",
     "start_time": "2024-03-17T16:49:24.468544Z"
    }
   },
   "id": "56b9eeb61968d028",
   "execution_count": 242
  },
  {
   "cell_type": "code",
   "outputs": [],
   "source": [],
   "metadata": {
    "collapsed": false,
    "ExecuteTime": {
     "end_time": "2024-03-17T16:48:47.246696Z",
     "start_time": "2024-03-17T16:48:47.244493Z"
    }
   },
   "id": "e125f5caf599fd8f",
   "execution_count": 238
  }
 ],
 "metadata": {
  "kernelspec": {
   "display_name": "Python 3",
   "language": "python",
   "name": "python3"
  },
  "language_info": {
   "codemirror_mode": {
    "name": "ipython",
    "version": 2
   },
   "file_extension": ".py",
   "mimetype": "text/x-python",
   "name": "python",
   "nbconvert_exporter": "python",
   "pygments_lexer": "ipython2",
   "version": "2.7.6"
  }
 },
 "nbformat": 4,
 "nbformat_minor": 5
}
