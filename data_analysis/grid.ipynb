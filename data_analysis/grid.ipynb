{
 "cells": [
  {
   "cell_type": "code",
   "execution_count": 23,
   "id": "initial_id",
   "metadata": {
    "collapsed": true,
    "ExecuteTime": {
     "end_time": "2024-03-23T04:34:21.588099Z",
     "start_time": "2024-03-23T04:34:21.567660Z"
    }
   },
   "outputs": [],
   "source": [
    "import os\n",
    "import numpy as np\n",
    "import matplotlib.pyplot as plt\n",
    "import random\n",
    "\n",
    "map_path = os.path.expanduser(\n",
    "        '../maps/map-1.txt'\n",
    ")\n",
    "mp = []\n",
    "with open(map_path, 'r') as f:\n",
    "    lines = f.readlines()\n",
    "    for line in lines:\n",
    "        line = line.strip()\n",
    "        l = []\n",
    "        for i in range(len(line)):\n",
    "            l.append(line[i])\n",
    "        mp.append(l)\n",
    "\n",
    "mp = np.array(mp)\n",
    "\n",
    "\n",
    "def visualize_map(mp: np.ndarray):\n",
    "    char_to_int = {\n",
    "        '#': 1.,\n",
    "        '*': 1.,\n",
    "        '.': 0.,\n",
    "        'A': 0.,\n",
    "        'B': 0.,\n",
    "    }\n",
    "    cp = np.zeros(mp.shape, dtype=np.float32)\n",
    "    m, n = cp.shape\n",
    "    for i in range(m):\n",
    "        for j in range(n):\n",
    "            cp[i, j] = char_to_int[mp[i, j]]\n",
    "    return cp\n"
   ]
  },
  {
   "cell_type": "code",
   "outputs": [],
   "source": [
    "def bfs_grid(mp: np.ndarray, start_x, start_y, threshold):\n",
    "    dx = [-1, 1, 0, 0]\n",
    "    dy = [0, 0, -1, 1]\n",
    "    m, n = mp.shape\n",
    "    queue = [(start_x, start_y)]\n",
    "    visited = set()\n",
    "    visited.add((start_x, start_y))\n",
    "    depth = 0\n",
    "    grids = []\n",
    "    while l := len(queue) > 0:\n",
    "        for i in range(l):\n",
    "            x, y = queue.pop(0)\n",
    "            for i in range(4):\n",
    "                next_pos = (x + dx[i], y + dy[i])\n",
    "                if not (0 <= next_pos[0] < m and 0 <= next_pos[1] < n): continue\n",
    "                if not next_pos in visited and mp[next_pos] == '.':\n",
    "                    queue.append(next_pos)\n",
    "                    visited.add(next_pos)\n",
    "                    if random.randint(0, 1000) < threshold:\n",
    "                        grids.append(next_pos)\n",
    "        depth += 1\n",
    "    return grids"
   ],
   "metadata": {
    "collapsed": false,
    "ExecuteTime": {
     "end_time": "2024-03-23T04:34:21.595388Z",
     "start_time": "2024-03-23T04:34:21.591717Z"
    }
   },
   "id": "54f07611241d4d04",
   "execution_count": 24
  },
  {
   "cell_type": "code",
   "outputs": [
    {
     "data": {
      "text/plain": "(-0.5, 199.5, 199.5, -0.5)"
     },
     "execution_count": 25,
     "metadata": {},
     "output_type": "execute_result"
    },
    {
     "data": {
      "text/plain": "<Figure size 1000x1000 with 1 Axes>",
      "image/png": "[encoded data removed]"
     },
     "metadata": {},
     "output_type": "display_data"
    }
   ],
   "source": [
    "plt.figure(figsize=(10,10))\n",
    "cp = visualize_map(mp)\n",
    "\n",
    "grid = bfs_grid(mp, 50, 60, 10)\n",
    "for x, y in grid:\n",
    "    cp[x, y] = 0.5\n",
    "plt.imshow(cp, cmap='inferno_r')\n",
    "plt.axis('off')"
   ],
   "metadata": {
    "collapsed": false,
    "ExecuteTime": {
     "end_time": "2024-03-23T04:34:21.753063Z",
     "start_time": "2024-03-23T04:34:21.596637Z"
    }
   },
   "id": "af964152a69cfba4",
   "execution_count": 25
  },
  {
   "cell_type": "code",
   "outputs": [],
   "source": [],
   "metadata": {
    "collapsed": false,
    "ExecuteTime": {
     "end_time": "2024-03-23T04:34:21.758536Z",
     "start_time": "2024-03-23T04:34:21.755377Z"
    }
   },
   "id": "979cd86af7ffd9cf",
   "execution_count": 25
  }
 ],
 "metadata": {
  "kernelspec": {
   "display_name": "Python 3",
   "language": "python",
   "name": "python3"
  },
  "language_info": {
   "codemirror_mode": {
    "name": "ipython",
    "version": 2
   },
   "file_extension": ".py",
   "mimetype": "text/x-python",
   "name": "python",
   "nbconvert_exporter": "python",
   "pygments_lexer": "ipython2",
   "version": "2.7.6"
  }
 },
 "nbformat": 4,
 "nbformat_minor": 5
}
